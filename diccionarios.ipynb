{
  "nbformat": 4,
  "nbformat_minor": 0,
  "metadata": {
    "colab": {
      "provenance": []
    },
    "kernelspec": {
      "name": "python3",
      "display_name": "Python 3"
    },
    "language_info": {
      "name": "python"
    }
  },
  "cells": [
    {
      "cell_type": "code",
      "execution_count": null,
      "metadata": {
        "id": "cV7qucHq16aQ"
      },
      "outputs": [],
      "source": []
    },
    {
      "cell_type": "markdown",
      "source": [
        "# Diccionarios\n"
      ],
      "metadata": {
        "id": "OibJwt_k16xp"
      }
    },
    {
      "cell_type": "code",
      "source": [
        "#Importantes para base de datos \n",
        "larousse= {\"frutas\" : [\"Manzana\",\"sandia\", \"kiwi\", \"granada\"], \"color\":\"violeta\", \"verdad\":True}\n",
        "\n",
        "larousse[\"color\"]=\"amarillo\"\n",
        "larousse\n",
        "\n",
        "larousse[\"color\"]=[\"Amarillo\",\"Azul\", \"Rojo\"]\n",
        "larousse\n",
        "\n",
        "larousse[\"nombre\"]=\"Clark Kent\"\n",
        "larousse"
      ],
      "metadata": {
        "colab": {
          "base_uri": "https://localhost:8080/"
        },
        "id": "xiOl3PVK1-eo",
        "outputId": "0add4f7d-2e1a-461c-a80a-0a7b7e6fde7c"
      },
      "execution_count": 5,
      "outputs": [
        {
          "output_type": "execute_result",
          "data": {
            "text/plain": [
              "{'frutas': ['Manzana', 'sandia', 'kiwi', 'granada'],\n",
              " 'color': ['Amarillo', 'Azul', 'Rojo'],\n",
              " 'verdad': True,\n",
              " 'nombre': 'Clark Kent'}"
            ]
          },
          "metadata": {},
          "execution_count": 5
        }
      ]
    },
    {
      "cell_type": "markdown",
      "source": [
        "# Recuperandro elementos"
      ],
      "metadata": {
        "id": "DMo4MMnK4rjp"
      }
    },
    {
      "cell_type": "code",
      "source": [
        "larousse[\"color\"]\n",
        "\n",
        "\n",
        "#recuperando elementos de un arregño de un diccionario \n",
        "\n",
        "larousse[\"color\"][0]\n",
        "\n",
        "#borrar un elemento \n",
        "\n",
        "del(larousse[\"verdad\"])\n",
        "larousse"
      ],
      "metadata": {
        "colab": {
          "base_uri": "https://localhost:8080/",
          "height": 217
        },
        "id": "NiXuqAkg4uUI",
        "outputId": "a9a7292b-f3f2-4835-cd27-973da549b518"
      },
      "execution_count": 9,
      "outputs": [
        {
          "output_type": "error",
          "ename": "KeyError",
          "evalue": "ignored",
          "traceback": [
            "\u001b[0;31m---------------------------------------------------------------------------\u001b[0m",
            "\u001b[0;31mKeyError\u001b[0m                                  Traceback (most recent call last)",
            "\u001b[0;32m<ipython-input-9-58441a0a5a60>\u001b[0m in \u001b[0;36m<module>\u001b[0;34m\u001b[0m\n\u001b[1;32m      8\u001b[0m \u001b[0;31m#borrar un elemento\u001b[0m\u001b[0;34m\u001b[0m\u001b[0;34m\u001b[0m\u001b[0;34m\u001b[0m\u001b[0m\n\u001b[1;32m      9\u001b[0m \u001b[0;34m\u001b[0m\u001b[0m\n\u001b[0;32m---> 10\u001b[0;31m \u001b[0;32mdel\u001b[0m\u001b[0;34m(\u001b[0m\u001b[0mlarousse\u001b[0m\u001b[0;34m[\u001b[0m\u001b[0;34m\"verdad\"\u001b[0m\u001b[0;34m]\u001b[0m\u001b[0;34m)\u001b[0m\u001b[0;34m\u001b[0m\u001b[0;34m\u001b[0m\u001b[0m\n\u001b[0m\u001b[1;32m     11\u001b[0m \u001b[0mlarousse\u001b[0m\u001b[0;34m\u001b[0m\u001b[0;34m\u001b[0m\u001b[0m\n",
            "\u001b[0;31mKeyError\u001b[0m: 'verdad'"
          ]
        }
      ]
    },
    {
      "cell_type": "markdown",
      "source": [
        "# leo's shop"
      ],
      "metadata": {
        "id": "R3ARRiv38sno"
      }
    },
    {
      "cell_type": "code",
      "source": [
        "#crear una tienda, con diferentes tipos de productos, factura por cliente, saber al final cuanto se vendio en total en el dia  \n",
        "\n",
        "import pandas as pd\n",
        "\n",
        "\n",
        "contadorcomb = 0\n",
        "contadorbebida = 0\n",
        "total = 0\n",
        "usuarios = 0\n",
        "totalVentas = 0\n",
        "cantidadcomb = 0\n",
        "cantidabebidas = 0\n",
        "\n",
        "print(\"Bienvenido a la tienda leo's fast food!!!\")\n",
        "print(\"*****************Menu********************1\")\n",
        "shop={\"combo\":[1,2,3,4], \"PrecioCom\":[\"$20000\", \"$25000\", \"$18000\", \"24500\"], \"bebidas\":[\"Jugos Natural\", \"Cerveza\", \"Agua\", \"Gaseosa\"], \"precioBebidas\":[\" $7000\", \"$3500\", \"4000\", \"$2500\"]}\n",
        "df = pd.DataFrame.from_dict(shop)\n",
        "print (df)\n",
        "\n",
        "print()\n",
        "\n",
        "\n",
        "\n",
        "\n",
        "pedido = input(\"Hola campeón, Que combo deseas comprar: \")\n",
        "\n",
        "if pedido == \"1\":\n",
        "  contadorcomb = 20000\n",
        "elif pedido == \"2\":\n",
        "   contadorcomb = 25000\n",
        "elif pedido == \"3\":\n",
        "  contadorcomb = 18000\n",
        "elif pedido == \"4\":\n",
        "  contadorcomb = 24500\n",
        "\n",
        "cantidad = input(f\"Cuantos combos {pedido} deseas comprar: \")\n",
        "cantidadcomb = cantidad * contadorcomb \n",
        "\n",
        "\n",
        "\n",
        "bebida = input(\"Que bebida deseas tomar: \")\n",
        "\n",
        "if bebida == \"Jugo Natural\":\n",
        "  contadorbebida = 7000\n",
        "elif bebida == \"Cerveza\":\n",
        "  contadorbebida += 3500\n",
        "elif bebida == \"Agua\":\n",
        "  contadorbebida = 4000\n",
        "elif bebida == \"Cerveza\":\n",
        "  contadorbebida = 3500\n",
        "elif bebida == \"Gaseosa\":\n",
        "  contadorbebida = 2500    \n",
        "\n",
        "cantidad = input(f\"Cuantas bebidas {bebida} deseas comprar: \")\n",
        "cantidadbebidas = cantidad * contadorcomb   \n",
        "\n",
        "total = cantidadcomb + cantidadbebidas\n",
        "\n",
        "print(\" \")\n",
        "\n",
        "print(\"Bienvenido a la tienda leo's fast food!!!\")\n",
        "print(\"*****************Factura********************1\")\n",
        "factura={\"combo\":[pedido], \"valor\":[contadorcomb], \"bebida\":[bebida], \"precio Bebida\":[contadorbebida], \"total\":[total]}\n",
        "dm = pd.DataFrame.from_dict(factura)\n",
        "print (dm)\n",
        "print(\"Gracias por tu compra!!!\")\n",
        "\n",
        "print()\n",
        "\n",
        "\n",
        "\n",
        "final = input(\"Tenemos un nuevo usuario?\") \n",
        "usuarios += 1\n",
        "\n",
        "\n",
        "\n",
        "if final == \"No\" or final == \"no\": \n",
        "  total = contadorcomb + contadorbebida\n",
        "\n",
        "  print(f\"El total de tus ventas fueron: {totalVentas}\")\n",
        "\n",
        "  facturacion={\"usuarios\":[usuarios], \"ganancias\":[totalVentas]}\n",
        "  df = pd.DataFrame.from_dict(facturacion)\n",
        "  print (df)\n",
        "\n",
        "  print(\"\")\n",
        "\n",
        "else:\n",
        "      totalVentas=0\n",
        "      contadorcomb = 0\n",
        "      contadorbebida = 0\n",
        "      print()\n",
        "\n",
        "\n",
        "\n",
        "\n",
        "pedido = input(\"Hola campeón, Que combo deseas comprar: \")\n",
        "\n",
        "if pedido == \"1\":\n",
        "  contadorcomb = 20000\n",
        "elif pedido == \"2\":\n",
        "   contadorcomb = 25000\n",
        "elif pedido == \"3\":\n",
        "  contadorcomb = 18000\n",
        "elif pedido == \"4\":\n",
        "  contadorcomb = 24500\n",
        "\n",
        "cantidad = input(f\"Cuantos combos {pedido} deseas comprar: \")\n",
        "cantidadcomb = cantidad * contadorcomb \n",
        "\n",
        "\n",
        "\n",
        "bebida = input(\"Que bebida deseas tomar: \")\n",
        "\n",
        "if bebida == \"Jugo Natural\":\n",
        "  contadorbebida = 7000\n",
        "elif bebida == \"Cerveza\":\n",
        "  contadorbebida += 3500\n",
        "elif bebida == \"Agua\":\n",
        "  contadorbebida = 4000\n",
        "elif bebida == \"Cerveza\":\n",
        "  contadorbebida = 3500\n",
        "elif bebida == \"Gaseosa\":\n",
        "  contadorbebida = 2500    \n",
        "\n",
        "cantidad = input(f\"Cuantas bebidas {bebida} deseas comprar: \")\n",
        "cantidadbebidas = cantidad * contadorcomb   \n",
        "\n",
        "total = cantidadcomb + cantidadbebidas\n",
        "\n",
        "print(\" \")\n",
        "\n",
        "print(\"Bienvenido a la tienda leo's fast food!!!\")\n",
        "print(\"*****************Factura********************1\")\n",
        "factura={\"combo\":[pedido], \"valor\":[contadorcomb], \"bebida\":[bebida], \"precio Bebida\":[contadorbebida], \"total\":[total]}\n",
        "dm = pd.DataFrame.from_dict(factura)\n",
        "print (dm)\n",
        "print(\"Gracias por tu compra!!!\")\n",
        "\n",
        "print()\n",
        "\n",
        "\n",
        "\n",
        "final = input(\"Tenemos un nuevo usuario?\") \n",
        "usuarios += 1\n",
        "\n",
        "\n",
        "\n",
        "\n",
        "\n",
        "\n",
        "\n",
        "\n",
        "\n",
        "\n",
        "\n"
      ],
      "metadata": {
        "colab": {
          "base_uri": "https://localhost:8080/"
        },
        "id": "ygcwcRsB86Vg",
        "outputId": "79c5fefe-5c15-4263-887e-bba64f74c6cb"
      },
      "execution_count": null,
      "outputs": [
        {
          "output_type": "stream",
          "name": "stdout",
          "text": [
            "Bienvenido a la tienda leo's fast food!!!\n",
            "*****************Menu********************1\n",
            "   combo PrecioCom        bebidas precioBebidas\n",
            "0      1    $20000  Jugos Natural         $7000\n",
            "1      2    $25000        Cerveza         $3500\n",
            "2      3    $18000           Agua          4000\n",
            "3      4     24500        Gaseosa         $2500\n",
            "\n",
            "Hola campeón, Que combo deseas comprar: 2\n",
            "Cuantos combos 2 deseas comprar: 2\n",
            "Que bebida deseas tomar: Agua\n",
            "Cuantas bebidas Agua deseas comprar: 2\n",
            " \n",
            "Bienvenido a la tienda leo's fast food!!!\n",
            "*****************Factura********************1\n",
            "  combo  valor bebida  precio Bebida  \\\n",
            "0     2  25000   Agua           4000   \n",
            "\n",
            "                                               total  \n",
            "0  2222222222222222222222222222222222222222222222...  \n",
            "Gracias por tu compra!!!\n",
            "\n",
            "Tenemos un nuevo usuario?si\n",
            "\n",
            "Hola campeón, Que combo deseas comprar: 1\n",
            "Cuantos combos 1 deseas comprar: 1\n",
            "Que bebida deseas tomar: Gaseosa\n",
            "Cuantas bebidas Gaseosa deseas comprar: 1\n",
            " \n",
            "Bienvenido a la tienda leo's fast food!!!\n",
            "*****************Factura********************1\n",
            "  combo  valor   bebida  precio Bebida  \\\n",
            "0     1  20000  Gaseosa           2500   \n",
            "\n",
            "                                               total  \n",
            "0  1111111111111111111111111111111111111111111111...  \n",
            "Gracias por tu compra!!!\n",
            "\n"
          ]
        }
      ]
    }
  ]
}